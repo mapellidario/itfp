{
 "cells": [
  {
   "cell_type": "code",
   "execution_count": 34,
   "metadata": {
    "collapsed": false
   },
   "outputs": [
    {
     "name": "stdout",
     "output_type": "stream",
     "text": [
      "total 8\n",
      "-rw-r--r-- 1 dario dario 4819 May 20 21:05 bash.ipynb\n"
     ]
    }
   ],
   "source": [
    "%%bash\n",
    "ls -lrt"
   ]
  },
  {
   "cell_type": "code",
   "execution_count": 25,
   "metadata": {
    "collapsed": false
   },
   "outputs": [
    {
     "name": "stdout",
     "output_type": "stream",
     "text": [
      "              total        used        free      shared  buff/cache   available\n",
      "Mem:           7867        5822         175        1019        1869         748\n",
      "Swap:         15799        2439       13360\n"
     ]
    }
   ],
   "source": [
    "%%bash\n",
    "# RAM\n",
    "free -m"
   ]
  },
  {
   "cell_type": "code",
   "execution_count": 26,
   "metadata": {
    "collapsed": false
   },
   "outputs": [],
   "source": [
    "%%bash\n",
    "# CPU and processed\n",
    "# top\n",
    "# htop"
   ]
  },
  {
   "cell_type": "code",
   "execution_count": 64,
   "metadata": {
    "collapsed": false
   },
   "outputs": [
    {
     "name": "stdout",
     "output_type": "stream",
     "text": [
      "dario    14136  0.1  0.6 307960 50776 pts/11   Sl+  20:54   0:01 /usr/bin/python3 /usr/bin/jupyter-notebook\n",
      "dario    14380  0.1  0.5 604892 40900 ?        Ssl  20:55   0:01 /usr/bin/python3 -m ipykernel -f /run/user/1000/jupyter/kernel-9b3416fc-ef49-47d4-a86a-413d865f8673.json\n",
      "dario    15888  0.0  0.0  12720   944 ?        S    21:17   0:00 grep jupy\n",
      "\n",
      "14136 /usr/bin/python3 /usr/bin/jupyter-notebook\n",
      "14380 /usr/bin/python3 -m ipykernel -f /run/user/1000/jupyter/kernel-9b3416fc-ef49-47d4-a86a-413d865f8673.json\n"
     ]
    }
   ],
   "source": [
    "%%bash\n",
    "# processes\n",
    "ps aux | grep \"jupy\"\n",
    "echo\n",
    "pgrep -fa \"jupy\""
   ]
  },
  {
   "cell_type": "code",
   "execution_count": 29,
   "metadata": {
    "collapsed": false
   },
   "outputs": [
    {
     "name": "stdout",
     "output_type": "stream",
     "text": [
      "8.0K\t../step0/.ipynb_checkpoints\n",
      "24K\t../step0\n",
      "4.0K\t../.git/refs/tags\n",
      "4.0K\t../.git/refs/heads\n",
      "12K\t../.git/refs\n",
      "8.0K\t../.git/info\n",
      "48K\t../.git/hooks\n",
      "4.0K\t../.git/branches\n",
      "4.0K\t../.git/objects/pack\n",
      "4.0K\t../.git/objects/info\n",
      "12K\t../.git/objects\n",
      "100K\t../.git\n",
      "24K\t../step1/data/.ipynb_checkpoints\n",
      "220K\t../step1/data\n",
      "264K\t../step1\n",
      "4.0K\t../step2\n",
      "396K\t..\n"
     ]
    }
   ],
   "source": [
    "%%bash\n",
    "du -h .."
   ]
  },
  {
   "cell_type": "code",
   "execution_count": 21,
   "metadata": {
    "collapsed": false
   },
   "outputs": [],
   "source": [
    "%%bash \n",
    "# du --help\n",
    "# man du"
   ]
  },
  {
   "cell_type": "code",
   "execution_count": 32,
   "metadata": {
    "collapsed": false
   },
   "outputs": [],
   "source": [
    "%%bash\n",
    "df -hT"
   ]
  },
  {
   "cell_type": "code",
   "execution_count": 39,
   "metadata": {
    "collapsed": false
   },
   "outputs": [
    {
     "name": "stdout",
     "output_type": "stream",
     "text": [
      "/bin/ls\n",
      "/usr/bin/du\n",
      "/bin/ip\n"
     ]
    }
   ],
   "source": [
    "%%bash\n",
    "which ls\n",
    "which du"
   ]
  },
  {
   "cell_type": "code",
   "execution_count": 27,
   "metadata": {
    "collapsed": false
   },
   "outputs": [],
   "source": [
    "%%bash\n",
    "ip addr"
   ]
  },
  {
   "cell_type": "code",
   "execution_count": 28,
   "metadata": {
    "collapsed": true
   },
   "outputs": [],
   "source": [
    "%%bash\n",
    "# nload -u H wlp58s0"
   ]
  },
  {
   "cell_type": "code",
   "execution_count": 40,
   "metadata": {
    "collapsed": false
   },
   "outputs": [
    {
     "name": "stdout",
     "output_type": "stream",
     "text": [
      "/home/dario/.nvm/versions/node/v6.14.1/bin:/usr/local/bin:/usr/bin:/bin:/usr/local/games:/usr/games\n"
     ]
    }
   ],
   "source": [
    "%%bash\n",
    "echo ${PATH}"
   ]
  },
  {
   "cell_type": "code",
   "execution_count": 50,
   "metadata": {
    "collapsed": false
   },
   "outputs": [
    {
     "name": "stdout",
     "output_type": "stream",
     "text": [
      "ciao\n"
     ]
    }
   ],
   "source": [
    "%%bash\n",
    "echo ciao"
   ]
  },
  {
   "cell_type": "code",
   "execution_count": 41,
   "metadata": {
    "collapsed": false
   },
   "outputs": [
    {
     "name": "stdout",
     "output_type": "stream",
     "text": [
      "0\n"
     ]
    }
   ],
   "source": [
    "%%bash\n",
    "echo $?"
   ]
  },
  {
   "cell_type": "code",
   "execution_count": 45,
   "metadata": {
    "collapsed": false
   },
   "outputs": [
    {
     "name": "stdout",
     "output_type": "stream",
     "text": [
      "1\n",
      "0\n"
     ]
    }
   ],
   "source": [
    "%%bash\n",
    "false\n",
    "echo $?\n",
    "echo $?"
   ]
  },
  {
   "cell_type": "code",
   "execution_count": 48,
   "metadata": {
    "collapsed": false
   },
   "outputs": [
    {
     "name": "stdout",
     "output_type": "stream",
     "text": [
      "bash\n"
     ]
    }
   ],
   "source": [
    "%%bash\n",
    "echo $0\n",
    "# works for bash ans zsh, not for fish"
   ]
  },
  {
   "cell_type": "code",
   "execution_count": 51,
   "metadata": {
    "collapsed": false
   },
   "outputs": [
    {
     "name": "stdout",
     "output_type": "stream",
     "text": [
      "\n",
      "pluto\n"
     ]
    }
   ],
   "source": [
    "%%bash\n",
    "echo $PIPPO\n",
    "export PIPPO=\"pluto\"\n",
    "echo $PIPPO"
   ]
  },
  {
   "cell_type": "code",
   "execution_count": 65,
   "metadata": {
    "collapsed": false
   },
   "outputs": [
    {
     "name": "stdout",
     "output_type": "stream",
     "text": [
      "sag%Tse\\9SU?i7O9kV<C-{)r1R\\U~T_\"`(d1wdOcQdIojFVck&9sAgGu(+C/6T1J$K^tXh1(.mgUO]4(ik'I${\\8ms7SSH7SVkYh\n"
     ]
    }
   ],
   "source": [
    "%%bash\n",
    "cat /dev/urandom | tr -dc '[:graph:]' | fold -w 100 | head -n 1"
   ]
  },
  {
   "cell_type": "code",
   "execution_count": null,
   "metadata": {
    "collapsed": true
   },
   "outputs": [],
   "source": []
  }
 ],
 "metadata": {
  "kernelspec": {
   "display_name": "Python 3",
   "language": "python",
   "name": "python3"
  },
  "language_info": {
   "codemirror_mode": {
    "name": "ipython",
    "version": 3
   },
   "file_extension": ".py",
   "mimetype": "text/x-python",
   "name": "python",
   "nbconvert_exporter": "python",
   "pygments_lexer": "ipython3",
   "version": "3.5.3"
  }
 },
 "nbformat": 4,
 "nbformat_minor": 2
}
